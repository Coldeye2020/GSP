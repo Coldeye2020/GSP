{
 "cells": [
  {
   "cell_type": "code",
   "execution_count": 5,
   "metadata": {},
   "outputs": [],
   "source": [
    "import torch_geometric as pyg\n",
    "import torch\n",
    "from ogb.graphproppred import PygGraphPropPredDataset"
   ]
  },
  {
   "cell_type": "code",
   "execution_count": 23,
   "metadata": {},
   "outputs": [],
   "source": [
    "dataset = PygGraphPropPredDataset(name='ogbg-moltox21', root='../../data/')"
   ]
  },
  {
   "cell_type": "code",
   "execution_count": null,
   "metadata": {},
   "outputs": [],
   "source": []
  },
  {
   "cell_type": "code",
   "execution_count": 24,
   "metadata": {},
   "outputs": [],
   "source": [
    "split_idx = dataset.get_idx_split()\n",
    "train_set = dataset[split_idx[\"train\"]]\n",
    "valid_set = dataset[split_idx[\"valid\"]]\n",
    "test_set = dataset[split_idx[\"test\"]]"
   ]
  },
  {
   "cell_type": "code",
   "execution_count": 25,
   "metadata": {},
   "outputs": [
    {
     "data": {
      "image/png": "[encoded data removed]",
      "text/plain": [
       "<Figure size 640x480 with 1 Axes>"
      ]
     },
     "metadata": {},
     "output_type": "display_data"
    }
   ],
   "source": [
    "train_size = []\n",
    "for data in train_set:\n",
    "    train_size.append(data.num_nodes)\n",
    "# 画出train_size的分布\n",
    "import matplotlib.pyplot as plt\n",
    "# 间距设置为10\n",
    "plt.hist(train_size, bins=range(0, max(train_size)+10, 10))\n",
    "plt.show()"
   ]
  },
  {
   "cell_type": "code",
   "execution_count": 26,
   "metadata": {},
   "outputs": [],
   "source": [
    "test_size = []\n",
    "for data in test_set:\n",
    "    test_size.append(data.num_nodes)\n",
    "valid_size = []\n",
    "for data in valid_set:\n",
    "    valid_size.append(data.num_nodes)\n",
    "\n",
    "# 画出train_size的分布\n",
    "# import matplotlib.pyplot as plt\n",
    "# # 间距设置为10\n",
    "# plt.hist(test_size, bins=range(0, max(test_size)+10, 10))\n",
    "# plt.show()"
   ]
  },
  {
   "cell_type": "code",
   "execution_count": 28,
   "metadata": {},
   "outputs": [
    {
     "name": "stdout",
     "output_type": "stream",
     "text": [
      "tensor(0.7096)\n",
      "tensor(0.6616)\n",
      "tensor(0.6786)\n"
     ]
    }
   ],
   "source": [
    "size = 20\n",
    "print((torch.FloatTensor(train_size) < size).sum() / len(train_size))\n",
    "print((torch.FloatTensor(valid_size) > size).sum() / len(valid_size))\n",
    "print((torch.FloatTensor(test_size) > size).sum() / len(test_size))"
   ]
  },
  {
   "cell_type": "code",
   "execution_count": null,
   "metadata": {},
   "outputs": [],
   "source": [
    "# tox21 20\n",
    "# sider 25"
   ]
  }
 ],
 "metadata": {
  "kernelspec": {
   "display_name": "pyg",
   "language": "python",
   "name": "python3"
  },
  "language_info": {
   "codemirror_mode": {
    "name": "ipython",
    "version": 3
   },
   "file_extension": ".py",
   "mimetype": "text/x-python",
   "name": "python",
   "nbconvert_exporter": "python",
   "pygments_lexer": "ipython3",
   "version": "3.9.16"
  }
 },
 "nbformat": 4,
 "nbformat_minor": 2
}
